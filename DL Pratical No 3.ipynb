{
 "cells": [
  {
   "cell_type": "code",
   "execution_count": 1,
   "metadata": {},
   "outputs": [],
   "source": [
    "import numpy as np\n",
    "import pandas as pd\n",
    "import matplotlib.pyplot as plt\n",
    "from sklearn.model_selection import train_test_split\n",
    "from tensorflow.keras.models import Sequential\n",
    "from tensorflow.keras.layers import Conv2D, MaxPooling2D, Flatten, Dense, Dropout\n",
    "from tensorflow.keras.utils import to_categorical\n"
   ]
  },
  {
   "cell_type": "code",
   "execution_count": 3,
   "metadata": {},
   "outputs": [],
   "source": [
    "# Load the dataset\n",
    "data = pd.read_csv('C:/Users/Administrator/Desktop/DL/fashion-MNIST.csv')"
   ]
  },
  {
   "cell_type": "code",
   "execution_count": 4,
   "metadata": {},
   "outputs": [],
   "source": [
    "# Split features and labels\n",
    "X = data.iloc[:, 1:].values.astype('float32')  # Features (pixels)\n",
    "y = data.iloc[:, 0].values.astype('int32')     # Labels (categories)"
   ]
  },
  {
   "cell_type": "code",
   "execution_count": 5,
   "metadata": {},
   "outputs": [],
   "source": [
    "# Preprocess the data\n",
    "X /= 255.0  # Normalize pixel values to be between 0 and 1\n",
    "X = X.reshape(-1, 28, 28, 1)  # Reshape the features into 28x28 grayscale images\n"
   ]
  },
  {
   "cell_type": "code",
   "execution_count": 6,
   "metadata": {},
   "outputs": [],
   "source": [
    "# Split the data into training and testing sets\n",
    "X_train, X_test, y_train, y_test = train_test_split(X, y, test_size=0.2, random_state=42)\n"
   ]
  },
  {
   "cell_type": "code",
   "execution_count": 7,
   "metadata": {},
   "outputs": [],
   "source": [
    "# Convert labels to one-hot encoding\n",
    "num_classes = len(np.unique(y))\n",
    "y_train = to_categorical(y_train, num_classes)\n",
    "y_test = to_categorical(y_test, num_classes)"
   ]
  },
  {
   "cell_type": "code",
   "execution_count": 8,
   "metadata": {},
   "outputs": [],
   "source": [
    "# Build the CNN model\n",
    "model = Sequential([\n",
    "    Conv2D(32, (3, 3), activation='relu', input_shape=(28, 28, 1)),\n",
    "    MaxPooling2D((2, 2)),\n",
    "    Conv2D(64, (3, 3), activation='relu'),\n",
    "    MaxPooling2D((2, 2)),\n",
    "    Conv2D(128, (3, 3), activation='relu'),\n",
    "    MaxPooling2D((2, 2)),\n",
    "    Flatten(),\n",
    "    Dense(128, activation='relu'),\n",
    "    Dropout(0.5),\n",
    "    Dense(num_classes, activation='softmax')\n",
    "])"
   ]
  },
  {
   "cell_type": "code",
   "execution_count": 9,
   "metadata": {},
   "outputs": [],
   "source": [
    "# Compile the model\n",
    "model.compile(optimizer='adam', loss='categorical_crossentropy', metrics=['accuracy'])\n"
   ]
  },
  {
   "cell_type": "code",
   "execution_count": 13,
   "metadata": {},
   "outputs": [
    {
     "name": "stdout",
     "output_type": "stream",
     "text": [
      "Epoch 1/10\n",
      "50/50 [==============================] - 2s 48ms/step - loss: 0.4728 - accuracy: 0.8220 - val_loss: 0.4370 - val_accuracy: 0.8419\n",
      "Epoch 2/10\n",
      "50/50 [==============================] - 2s 42ms/step - loss: 0.4526 - accuracy: 0.8359 - val_loss: 0.4335 - val_accuracy: 0.8450\n",
      "Epoch 3/10\n",
      "50/50 [==============================] - 2s 40ms/step - loss: 0.4282 - accuracy: 0.8447 - val_loss: 0.4397 - val_accuracy: 0.8462\n",
      "Epoch 4/10\n",
      "50/50 [==============================] - 2s 43ms/step - loss: 0.4182 - accuracy: 0.8452 - val_loss: 0.4152 - val_accuracy: 0.8487\n",
      "Epoch 5/10\n",
      "50/50 [==============================] - 2s 44ms/step - loss: 0.4155 - accuracy: 0.8530 - val_loss: 0.4118 - val_accuracy: 0.8512\n",
      "Epoch 6/10\n",
      "50/50 [==============================] - 2s 40ms/step - loss: 0.3863 - accuracy: 0.8548 - val_loss: 0.4075 - val_accuracy: 0.8519\n",
      "Epoch 7/10\n",
      "50/50 [==============================] - 2s 42ms/step - loss: 0.3787 - accuracy: 0.8627 - val_loss: 0.3950 - val_accuracy: 0.8562\n",
      "Epoch 8/10\n",
      "50/50 [==============================] - 2s 40ms/step - loss: 0.3561 - accuracy: 0.8680 - val_loss: 0.4060 - val_accuracy: 0.8537\n",
      "Epoch 9/10\n",
      "50/50 [==============================] - 2s 44ms/step - loss: 0.3459 - accuracy: 0.8703 - val_loss: 0.4205 - val_accuracy: 0.8525\n",
      "Epoch 10/10\n",
      "50/50 [==============================] - 2s 42ms/step - loss: 0.3370 - accuracy: 0.8747 - val_loss: 0.3949 - val_accuracy: 0.8581\n"
     ]
    },
    {
     "data": {
      "text/plain": [
       "<keras.callbacks.History at 0x278ea18eb30>"
      ]
     },
     "execution_count": 13,
     "metadata": {},
     "output_type": "execute_result"
    }
   ],
   "source": [
    "# Train the model\n",
    "model.fit(X_train, y_train, epochs=10, batch_size=128, validation_split=0.2)"
   ]
  },
  {
   "cell_type": "code",
   "execution_count": 14,
   "metadata": {},
   "outputs": [
    {
     "name": "stdout",
     "output_type": "stream",
     "text": [
      "63/63 [==============================] - 0s 6ms/step - loss: 0.4341 - accuracy: 0.8420\n",
      "Test Accuracy: 0.8420000076293945\n"
     ]
    }
   ],
   "source": [
    "# Evaluate the model\n",
    "test_loss, test_accuracy = model.evaluate(X_test, y_test)\n",
    "print(f'Test Accuracy: {test_accuracy}')"
   ]
  },
  {
   "cell_type": "code",
   "execution_count": 15,
   "metadata": {},
   "outputs": [
    {
     "name": "stdout",
     "output_type": "stream",
     "text": [
      "63/63 [==============================] - 0s 7ms/step\n"
     ]
    }
   ],
   "source": [
    "# Make predictions\n",
    "predictions = model.predict(X_test)"
   ]
  },
  {
   "cell_type": "code",
   "execution_count": 16,
   "metadata": {},
   "outputs": [
    {
     "name": "stdout",
     "output_type": "stream",
     "text": [
      "Some actual and predicted classes:\n",
      "Sample 1: Actual cloth class: 4, Predicted cloth class: 4\n",
      "Sample 2: Actual cloth class: 9, Predicted cloth class: 9\n",
      "Sample 3: Actual cloth class: 6, Predicted cloth class: 0\n",
      "Sample 4: Actual cloth class: 0, Predicted cloth class: 0\n",
      "Sample 5: Actual cloth class: 9, Predicted cloth class: 9\n",
      "Sample 6: Actual cloth class: 1, Predicted cloth class: 1\n",
      "Sample 7: Actual cloth class: 5, Predicted cloth class: 5\n",
      "Sample 8: Actual cloth class: 1, Predicted cloth class: 1\n",
      "Sample 9: Actual cloth class: 6, Predicted cloth class: 4\n",
      "Sample 10: Actual cloth class: 8, Predicted cloth class: 8\n"
     ]
    }
   ],
   "source": [
    "# Print some actual and predicted classes\n",
    "print(\"Some actual and predicted classes:\")\n",
    "for i in range(10):  # Print predictions for the first 10 images\n",
    "    actual_class = np.argmax(y_test[i])\n",
    "    predicted_class = np.argmax(predictions[i])\n",
    "    print(f\"Sample {i+1}: Actual cloth class: {actual_class}, Predicted cloth class: {predicted_class}\")"
   ]
  }
 ],
 "metadata": {
  "kernelspec": {
   "display_name": "Python 3",
   "language": "python",
   "name": "python3"
  },
  "language_info": {
   "codemirror_mode": {
    "name": "ipython",
    "version": 3
   },
   "file_extension": ".py",
   "mimetype": "text/x-python",
   "name": "python",
   "nbconvert_exporter": "python",
   "pygments_lexer": "ipython3",
   "version": "3.10.9"
  }
 },
 "nbformat": 4,
 "nbformat_minor": 2
}
